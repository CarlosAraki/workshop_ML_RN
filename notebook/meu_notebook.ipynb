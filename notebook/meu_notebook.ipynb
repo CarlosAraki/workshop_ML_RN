{
 "cells": [
  {
   "cell_type": "code",
   "execution_count": 1,
   "id": "32e1f0a6-5939-4285-b160-2050201ebd56",
   "metadata": {},
   "outputs": [
    {
     "name": "stdout",
     "output_type": "stream",
     "text": [
      "Teste de Library Python\n"
     ]
    }
   ],
   "source": [
    "print('Teste de Library Python')"
   ]
  },
  {
   "cell_type": "code",
   "execution_count": 3,
   "id": "8ffb6f9a-25ef-4903-8fe0-d37c647781bc",
   "metadata": {},
   "outputs": [
    {
     "data": {
      "text/plain": [
       "6"
      ]
     },
     "execution_count": 3,
     "metadata": {},
     "output_type": "execute_result"
    }
   ],
   "source": [
    "#testando operações baásicas\n",
    "2*3"
   ]
  },
  {
   "cell_type": "code",
   "execution_count": 6,
   "id": "f196f629-b777-4798-81c8-cc8b70e8204e",
   "metadata": {},
   "outputs": [
    {
     "data": {
      "text/plain": [
       "[0, 1, 2, 3, 4, 5, 6, 7, 8, 9]"
      ]
     },
     "execution_count": 6,
     "metadata": {},
     "output_type": "execute_result"
    }
   ],
   "source": [
    "# testando lista \n",
    "list( range(10))"
   ]
  },
  {
   "cell_type": "code",
   "execution_count": 13,
   "id": "3c57ac51-4d86-4d15-81fb-61f58a0bbcd0",
   "metadata": {},
   "outputs": [
    {
     "name": "stdout",
     "output_type": "stream",
     "text": [
      "O quadrado de 0  é  0\n",
      "O quadrado de 1  é  1\n",
      "O quadrado de 2  é  4\n",
      "O quadrado de 3  é  9\n",
      "O quadrado de 4  é  16\n",
      "O quadrado de 5  é  25\n",
      "O quadrado de 6  é  36\n",
      "O quadrado de 7  é  49\n",
      "O quadrado de 8  é  64\n",
      "O quadrado de 9  é  81\n",
      "done\n"
     ]
    }
   ],
   "source": [
    "#testando loop \n",
    "for n in range(10):\n",
    "    print(\"O quadrado de\",n,\" é \",n*n )\n",
    "    pass \n",
    "print(\"done\")"
   ]
  },
  {
   "cell_type": "code",
   "execution_count": null,
   "id": "adebaaeb-4468-4972-a0c0-89108a8becc8",
   "metadata": {},
   "outputs": [],
   "source": []
  }
 ],
 "metadata": {
  "kernelspec": {
   "display_name": "Python 3 (ipykernel)",
   "language": "python",
   "name": "python3"
  },
  "language_info": {
   "codemirror_mode": {
    "name": "ipython",
    "version": 3
   },
   "file_extension": ".py",
   "mimetype": "text/x-python",
   "name": "python",
   "nbconvert_exporter": "python",
   "pygments_lexer": "ipython3",
   "version": "3.10.4"
  }
 },
 "nbformat": 4,
 "nbformat_minor": 5
}
