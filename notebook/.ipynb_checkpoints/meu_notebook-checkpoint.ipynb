{
 "cells": [
  {
   "cell_type": "code",

   "execution_count": 1,
   "id": "32e1f0a6-5939-4285-b160-2050201ebd56",
   "metadata": {},
   "outputs": [
    {
     "name": "stdout",
     "output_type": "stream",
     "text": [

      "Teste de Library Python\n"
     ]
    }
   ],
   "source": [
    "print('Teste de Library Python')"
   ]
  },
  {
   "cell_type": "code",
   "execution_count": 3,
   "id": "8ffb6f9a-25ef-4903-8fe0-d37c647781bc",
   "metadata": {},
   "outputs": [
    {
     "data": {
      "text/plain": [
       "6"
      ]
     },
     "execution_count": 3,
     "metadata": {},
     "output_type": "execute_result"
    }
   ],
   "source": [
    "#testando operações baásicas\n",
    "2*3"
   ]
  },
  {
   "cell_type": "code",
   "execution_count": 6,
   "id": "f196f629-b777-4798-81c8-cc8b70e8204e",
   "metadata": {},
   "outputs": [
    {
     "data": {
      "text/plain": [
       "[0, 1, 2, 3, 4, 5, 6, 7, 8, 9]"
      ]
     },
     "execution_count": 6,
     "metadata": {},
     "output_type": "execute_result"
    }
   ],
   "source": [
    "# testando lista \n",
    "list( range(10))"
   ]
  },
  {
   "cell_type": "code",
   "execution_count": 13,
   "id": "3c57ac51-4d86-4d15-81fb-61f58a0bbcd0",
   "metadata": {},
   "outputs": [
    {
     "name": "stdout",
     "output_type": "stream",
     "text": [
      "O quadrado de 0  é  0\n",
      "O quadrado de 1  é  1\n",
      "O quadrado de 2  é  4\n",
      "O quadrado de 3  é  9\n",
      "O quadrado de 4  é  16\n",
      "O quadrado de 5  é  25\n",
      "O quadrado de 6  é  36\n",
      "O quadrado de 7  é  49\n",
      "O quadrado de 8  é  64\n",
      "O quadrado de 9  é  81\n",
      "done\n"
     ]
    }
   ],
   "source": [
    "#testando loop \n",
    "for n in range(10):\n",
    "    print(\"O quadrado de\",n,\" é \",n*n )\n",
    "    pass \n",
    "print(\"done\")"
   ]
  },
  {
   "cell_type": "code",
   "execution_count": 16,
   "id": "adebaaeb-4468-4972-a0c0-89108a8becc8",
   "metadata": {},
   "outputs": [],
   "source": [
    "# testando funcão \n",
    "def mediaDeDoisNumeros(x,y):\n",
    "    print('Primeiro n ',x)\n",
    "    print('Segundo n ',y)\n",
    "    media = (x+y)/2\n",
    "    print('media ',media)\n",
    "    return media"
   ]
  },
  {
   "cell_type": "code",
   "execution_count": 18,
   "id": "03c10893-880d-45cc-81f2-6df34561cf93",
   "metadata": {},
   "outputs": [
    {
     "name": "stdout",
     "output_type": "stream",
     "text": [
      "Primeiro n  2\n",
      "Segundo n  6\n",
      "media  4.0\n"
     ]
    },
    {
     "data": {
      "text/plain": [
       "4.0"
      ]
     },
     "execution_count": 18,
     "metadata": {},
     "output_type": "execute_result"
    }
   ],
   "source": [
    "mediaDeDoisNumeros(2,6)"
   ]
  },
  {
   "cell_type": "code",
   "execution_count": 21,
   "id": "67d02a15-e42f-4f0a-aa9b-904e2c473fa4",
   "metadata": {},
   "outputs": [
    {
     "name": "stdout",
     "output_type": "stream",
     "text": [
      "[[0. 0.]\n",
      " [0. 0.]\n",
      " [0. 0.]]\n"
     ]
    }
   ],
   "source": [
    "# testando bibliotecas prontas\n",
    "import numpy\n",
    "a = numpy.zeros([3,2])\n",
    "print(a)"
   ]
  },
  {
   "cell_type": "code",
   "execution_count": 31,
   "id": "6547fcc4-686d-413e-91b0-be14ec26d559",
   "metadata": {},
   "outputs": [
    {
     "name": "stdout",
     "output_type": "stream",
     "text": [
      "matriz  [[1. 3.]\n",
      " [0. 0.]\n",
      " [0. 0.]]\n",
      "valor 1.0\n"
     ]
    },
    {
     "ename": "IndexError",
     "evalue": "index 3 is out of bounds for axis 1 with size 2",
     "output_type": "error",
     "traceback": [
      "\u001b[0;31m---------------------------------------------------------------------------\u001b[0m",
      "\u001b[0;31mIndexError\u001b[0m                                Traceback (most recent call last)",
      "Input \u001b[0;32mIn [31]\u001b[0m, in \u001b[0;36m<cell line: 7>\u001b[0;34m()\u001b[0m\n\u001b[1;32m      4\u001b[0m \u001b[38;5;28mprint\u001b[39m(\u001b[38;5;124m'\u001b[39m\u001b[38;5;124mmatriz \u001b[39m\u001b[38;5;124m'\u001b[39m,a)\n\u001b[1;32m      5\u001b[0m \u001b[38;5;28mprint\u001b[39m(\u001b[38;5;124m'\u001b[39m\u001b[38;5;124mvalor\u001b[39m\u001b[38;5;124m'\u001b[39m, a[\u001b[38;5;241m0\u001b[39m,\u001b[38;5;241m0\u001b[39m])\n\u001b[0;32m----> 7\u001b[0m \u001b[43ma\u001b[49m\u001b[43m[\u001b[49m\u001b[38;5;241;43m1\u001b[39;49m\u001b[43m,\u001b[49m\u001b[38;5;241;43m3\u001b[39;49m\u001b[43m]\u001b[49m\n",
      "\u001b[0;31mIndexError\u001b[0m: index 3 is out of bounds for axis 1 with size 2"
     ]
    }
   ],
   "source": [
    "# testando matriz e erros python\n",
    "a[0,0] = 1\n",
    "a[0,1] = 3\n",
    "print('matriz ',a)\n",
    "print('valor', a[0,0])\n",
    "\n",
    "a[1,3]"
   ]
  },
  {
   "cell_type": "code",
   "execution_count": 34,
   "id": "29364f4b-0636-4d86-9641-c2f5a6f446b8",
   "metadata": {},
   "outputs": [
    {
     "data": {
      "text/plain": [
       "<matplotlib.image.AxesImage at 0x7fe4163207c0>"
      ]
     },
     "execution_count": 34,
     "metadata": {},
     "output_type": "execute_result"
    },
    {
     "data": {
      "image/png": "[encoded data removed]",
      "text/plain": [
       "<Figure size 432x288 with 1 Axes>"
      ]
     },
     "metadata": {
      "needs_background": "light"
     },
     "output_type": "display_data"
    }
   ],
   "source": [
    "# testando graficos\n",
    "import  matplotlib.pyplot  as mat\n",
    "# colocando os graficos tudo aqui dentro\n",
    "%matplotlib inline\n",
    "mat.imshow(a,interpolation=\"nearest\")\n",
    "\n"
   ]
  },
  {
   "cell_type": "code",
   "execution_count": 40,
   "id": "949221b0-dbfa-4423-8aaa-450e801ad3b2",
   "metadata": {},
   "outputs": [
    {
     "name": "stdout",
     "output_type": "stream",
     "text": [
      "piu\n",
      "piu\n"
     ]
    }
   ],
   "source": [
    "# testando classes e objetos\n",
    "class Passaro:\n",
    "    \n",
    "    #iniciando a espécie do passaro\n",
    "    def __init__(self,especie):\n",
    "        self.especie = especie\n",
    "        pass\n",
    "    \n",
    "    #get espécie \n",
    "    def pegaEspecie(self):\n",
    "        print('A sua especie é',self.especie)\n",
    "        pass\n",
    "    \n",
    "    #Passaros conseguem cantar\n",
    "    def cantar(self):\n",
    "        print('piu')\n",
    "        pass\n",
    "    pass\n",
    "\n",
    "\n",
    "moreno = Passaro(\"Louro\")\n",
    "moreno.cantar()\n",
    "pintinho = Passaro(\"galinha\")\n",
    "pintinho.cantar()\n"
   ]
  },
  {
   "cell_type": "code",
   "execution_count": 43,
   "id": "e2cdd81e-8bbe-4972-86de-794a95866df2",
   "metadata": {},
   "outputs": [
    {
     "name": "stdout",
     "output_type": "stream",
     "text": [
      "A sua especie é Louro\n",
      "A sua especie é galinha\n"

     ]
    }
   ],
   "source": [

    "moreno.pegaEspecie()\n",
    "pintinho.pegaEspecie()"

   ]
  }
 ],
 "metadata": {
  "kernelspec": {
   "display_name": "Python 3 (ipykernel)",
   "language": "python",
   "name": "python3"
  },
  "language_info": {
   "codemirror_mode": {
    "name": "ipython",
    "version": 3
   },
   "file_extension": ".py",
   "mimetype": "text/x-python",
   "name": "python",
   "nbconvert_exporter": "python",
   "pygments_lexer": "ipython3",
   "version": "3.10.4"
  }
 },
 "nbformat": 4,
 "nbformat_minor": 5
}
